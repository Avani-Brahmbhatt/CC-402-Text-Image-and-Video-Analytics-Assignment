{
 "cells": [
  {
   "cell_type": "markdown",
   "id": "ef4cf9e6-8efd-4397-88fa-a4165863ad26",
   "metadata": {},
   "source": [
    "## CC-402: Text, Image and Video Analytics\n",
    "### Unit 4: Image Compression Assignment\n",
    "\n",
    "**Name:**  Avani Brahmbhatt\n",
    "\n",
    "**Roll Number:**  01\n",
    "\n",
    "**Course:**  Data Science\t\n",
    "\n",
    "**Semester:**  07"
   ]
  },
  {
   "cell_type": "markdown",
   "id": "a87c7771-4e37-477f-8bef-8742d343f08a",
   "metadata": {},
   "source": [
    "## Part B: Coding:"
   ]
  },
  {
   "cell_type": "markdown",
   "id": "d25ac188-15ce-4143-a4c7-8edb0e286d18",
   "metadata": {},
   "source": [
    "#### 1. Implement functions for encoding and decoding an image using the following methods:\n",
    "\n",
    "A. Transform Coding (using DCT for forward transform)\n",
    "\n",
    "B. Huffman Encoding\n",
    "\n",
    "C. LZW Encoding\n",
    "\n",
    "D. Run-Length Encoding\n",
    "\n",
    "E. Arithmetic Coding\n",
    "\n",
    "For each method, display the Compression Ratio and calculate the Root Mean Square Error (RMSE) between the original and reconstructed image to quantify any loss of information."
   ]
  },
  {
   "cell_type": "markdown",
   "id": "cd18af45-66c3-4267-ba4e-3589c8b2484d",
   "metadata": {
    "jp-MarkdownHeadingCollapsed": true
   },
   "source": [
    "### A. Transform Coding (using DCT for forward transform)"
   ]
  },
  {
   "cell_type": "code",
   "execution_count": 1,
   "id": "ecaf8814",
   "metadata": {},
   "outputs": [
    {
     "name": "stderr",
     "output_type": "stream",
     "text": [
      "C:\\ProgramData\\anaconda3\\lib\\site-packages\\scipy\\__init__.py:146: UserWarning: A NumPy version >=1.16.5 and <1.23.0 is required for this version of SciPy (detected version 1.26.4\n",
      "  warnings.warn(f\"A NumPy version >={np_minversion} and <{np_maxversion}\"\n"
     ]
    },
    {
     "name": "stdout",
     "output_type": "stream",
     "text": [
      "Compression Ratio 1.0\n",
      "RMSE: 0.6609112467430145\n"
     ]
    }
   ],
   "source": [
    "import numpy as np\n",
    "import cv2\n",
    "from scipy.fftpack import dct, idct\n",
    "from skimage.metrics import mean_squared_error\n",
    "\n",
    "def dct_transform(image, block_size=8):\n",
    "    h, w = image.shape\n",
    "    dct_blocks = np.zeros_like(image, dtype=np.float32)\n",
    "    \n",
    "    # Apply DCT to each block\n",
    "    for i in range(0, h, block_size):\n",
    "        for j in range(0, w, block_size):\n",
    "            block = image[i:i+block_size, j:j+block_size]\n",
    "            dct_block = dct(dct(block.T, norm='ortho').T, norm='ortho')\n",
    "            dct_blocks[i:i+block_size, j:j+block_size] = dct_block\n",
    "    return dct_blocks\n",
    "\n",
    "def idct_transform(dct_blocks, block_size=8):\n",
    "    h, w = dct_blocks.shape\n",
    "    reconstructed_image = np.zeros_like(dct_blocks, dtype=np.float32)\n",
    "    \n",
    "    # Apply inverse DCT to each block\n",
    "    for i in range(0, h, block_size):\n",
    "        for j in range(0, w, block_size):\n",
    "            block = dct_blocks[i:i+block_size, j:j+block_size]\n",
    "            idct_block = idct(idct(block.T, norm='ortho').T, norm='ortho')\n",
    "            reconstructed_image[i:i+block_size, j:j+block_size] = idct_block\n",
    "    return np.clip(reconstructed_image, 0, 255).astype(np.uint8)\n",
    "\n",
    "# Encode\n",
    "image = cv2.imread('cato.jpg', cv2.IMREAD_GRAYSCALE)\n",
    "dct_encoded = dct_transform(image)\n",
    "\n",
    "# Decode\n",
    "dct_decoded = idct_transform(dct_encoded)\n",
    "\n",
    "# Compression Ratio and RMSE\n",
    "compression_ratio = image.size / dct_encoded.size\n",
    "rmse = np.sqrt(mean_squared_error(image, dct_decoded))\n",
    "\n",
    "\n",
    "print('Compression Ratio',compression_ratio)\n",
    "print('RMSE:',rmse)"
   ]
  },
  {
   "cell_type": "markdown",
   "id": "497dc2a4-b319-4195-8441-8f1037b44679",
   "metadata": {},
   "source": [
    "### B. Huffman Encoding"
   ]
  },
  {
   "cell_type": "code",
   "execution_count": 2,
   "id": "13b24d31",
   "metadata": {},
   "outputs": [
    {
     "name": "stdout",
     "output_type": "stream",
     "text": [
      "Compression Ratio 0.94690833329591\n",
      "RMSE: 0.0\n"
     ]
    }
   ],
   "source": [
    "import cv2\n",
    "from collections import Counter\n",
    "import heapq\n",
    "\n",
    "class HuffmanNode:\n",
    "    def __init__(self, symbol, frequency):\n",
    "        self.symbol = symbol\n",
    "        self.frequency = frequency\n",
    "        self.left = None\n",
    "        self.right = None\n",
    "\n",
    "    def __lt__(self, other):\n",
    "        return self.frequency < other.frequency\n",
    "\n",
    "def build_huffman_tree(frequency_dict):\n",
    "    heap = [HuffmanNode(symbol, freq) for symbol, freq in frequency_dict.items()]\n",
    "    heapq.heapify(heap)\n",
    "\n",
    "    while len(heap) > 1:\n",
    "        node1 = heapq.heappop(heap)\n",
    "        node2 = heapq.heappop(heap)\n",
    "        merged = HuffmanNode(None, node1.frequency + node2.frequency)\n",
    "        merged.left = node1\n",
    "        merged.right = node2\n",
    "        heapq.heappush(heap, merged)\n",
    "\n",
    "    return heap[0]\n",
    "\n",
    "def huffman_code_map(node, path='', code_map={}):\n",
    "    if node.symbol is not None:\n",
    "        code_map[node.symbol] = path\n",
    "    else:\n",
    "        if node.left:\n",
    "            huffman_code_map(node.left, path + '0', code_map)\n",
    "        if node.right:\n",
    "            huffman_code_map(node.right, path + '1', code_map)\n",
    "    return code_map\n",
    "\n",
    "def huffman_encode(image):\n",
    "    # Flatten the image and calculate frequency\n",
    "    symbols = image.flatten()\n",
    "    frequency_dict = dict(Counter(symbols))\n",
    "    huffman_tree_root = build_huffman_tree(frequency_dict)\n",
    "    code_map = huffman_code_map(huffman_tree_root)\n",
    "    \n",
    "    # Encode\n",
    "    encoded_image = ''.join(code_map[symbol] for symbol in symbols)\n",
    "    return encoded_image, code_map\n",
    "\n",
    "def huffman_decode(encoded_image, code_map, shape):\n",
    "    inverse_code_map = {v: k for k, v in code_map.items()}\n",
    "    current_code = ''\n",
    "    decoded_image = []\n",
    "\n",
    "    for bit in encoded_image:\n",
    "        current_code += bit\n",
    "        if current_code in inverse_code_map:\n",
    "            decoded_image.append(inverse_code_map[current_code])\n",
    "            current_code = ''\n",
    "\n",
    "    return np.array(decoded_image).reshape(shape)\n",
    "\n",
    "# Encode\n",
    "encoded_image, code_map = huffman_encode(image)\n",
    "\n",
    "# Decode\n",
    "decoded_image = huffman_decode(encoded_image, code_map, image.shape)\n",
    "\n",
    "# Compression Ratio and RMSE\n",
    "compression_ratio = len(encoded_image) / (image.size * 8)  # assuming 8 bits per pixel for original\n",
    "rmse = np.sqrt(mean_squared_error(image, decoded_image))\n",
    "\n",
    "\n",
    "print('Compression Ratio',compression_ratio)\n",
    "print('RMSE:',rmse)"
   ]
  },
  {
   "cell_type": "markdown",
   "id": "003bc6b1-b5e5-46cd-bd54-5b927482bc4e",
   "metadata": {},
   "source": [
    "### C. LZW Encoding"
   ]
  },
  {
   "cell_type": "code",
   "execution_count": 3,
   "id": "a8d3dfd4",
   "metadata": {},
   "outputs": [
    {
     "name": "stdout",
     "output_type": "stream",
     "text": [
      "Compression Ratio 0.1110135193124481\n",
      "RMSE: 0.0\n"
     ]
    }
   ],
   "source": [
    "import numpy as np\n",
    "import cv2\n",
    "def lzw_encode(image):\n",
    "    pixels = image.flatten()\n",
    "    dictionary = {bytes([i]): i for i in range(256)}\n",
    "    dict_size = 256\n",
    "    p = bytes([pixels[0]])\n",
    "    encoded = []\n",
    "\n",
    "    for c in pixels[1:]:\n",
    "        pc = p + bytes([c])\n",
    "        if pc in dictionary:\n",
    "            p = pc\n",
    "        else:\n",
    "            encoded.append(dictionary[p])\n",
    "            dictionary[pc] = dict_size\n",
    "            dict_size += 1\n",
    "            p = bytes([c])\n",
    "\n",
    "    encoded.append(dictionary[p])\n",
    "    return encoded\n",
    "\n",
    "def lzw_decode(encoded):\n",
    "    dictionary = {i: bytes([i]) for i in range(256)}\n",
    "    dict_size = 256\n",
    "    p = bytes([encoded[0]])\n",
    "    decoded = [p]\n",
    "\n",
    "    for k in encoded[1:]:\n",
    "        if k in dictionary:\n",
    "            entry = dictionary[k]\n",
    "        elif k == dict_size:\n",
    "            entry = p + p[:1]\n",
    "        else:\n",
    "            raise ValueError(\"Bad encoded k\")\n",
    "\n",
    "        decoded.append(entry)\n",
    "        dictionary[dict_size] = p + entry[:1]\n",
    "        dict_size += 1\n",
    "        p = entry\n",
    "\n",
    "    return np.frombuffer(b''.join(decoded), dtype=np.uint8)\n",
    "\n",
    "# Encode\n",
    "encoded_image = lzw_encode(image)\n",
    "\n",
    "# Decode\n",
    "decoded_image = lzw_decode(encoded_image).reshape(image.shape)\n",
    "\n",
    "# Compression Ratio and RMSE\n",
    "compression_ratio = len(encoded_image) / image.size\n",
    "rmse = np.sqrt(mean_squared_error(image, decoded_image))\n",
    "\n",
    "\n",
    "print('Compression Ratio',compression_ratio)\n",
    "print('RMSE:',rmse)"
   ]
  },
  {
   "cell_type": "markdown",
   "id": "07e9befa-b215-47a2-b5ed-023261097d0b",
   "metadata": {},
   "source": [
    "### D. Run-Length Encoding"
   ]
  },
  {
   "cell_type": "code",
   "execution_count": 4,
   "id": "9466b77f",
   "metadata": {},
   "outputs": [
    {
     "name": "stdout",
     "output_type": "stream",
     "text": [
      "Compression Ratio (RLE): 0.35363026521683594\n",
      "RMSE (RLE): 0.0\n"
     ]
    }
   ],
   "source": [
    "import numpy as np\n",
    "import cv2\n",
    "import numpy as np\n",
    "from skimage.metrics import mean_squared_error\n",
    "\n",
    "def rle_encode(image):\n",
    "    pixels = image.flatten()\n",
    "    encoded = []\n",
    "    prev_pixel = pixels[0]\n",
    "    count = 1\n",
    "\n",
    "    for pixel in pixels[1:]:\n",
    "        if pixel == prev_pixel:\n",
    "            count += 1\n",
    "        else:\n",
    "            encoded.append((prev_pixel, count))\n",
    "            prev_pixel = pixel\n",
    "            count = 1\n",
    "    # Append the last run\n",
    "    encoded.append((prev_pixel, count))\n",
    "    return encoded\n",
    "\n",
    "def rle_decode(encoded, shape):\n",
    "    decoded_pixels = []\n",
    "    for pixel, count in encoded:\n",
    "        decoded_pixels.extend([pixel] * count)\n",
    "    return np.array(decoded_pixels).reshape(shape)\n",
    "\n",
    "# Encode\n",
    "image = cv2.imread('cato.jpg', cv2.IMREAD_GRAYSCALE)\n",
    "encoded_image = rle_encode(image)\n",
    "\n",
    "# Decode\n",
    "decoded_image = rle_decode(encoded_image, image.shape)\n",
    "\n",
    "# Compression Ratio and RMSE\n",
    "compression_ratio = len(encoded_image) / image.size  # since each run uses 2 values (pixel, count)\n",
    "rmse = np.sqrt(mean_squared_error(image, decoded_image))\n",
    "\n",
    "print(\"Compression Ratio (RLE):\", compression_ratio)\n",
    "print(\"RMSE (RLE):\", rmse)\n"
   ]
  },
  {
   "cell_type": "markdown",
   "id": "5a1fa460-b027-4025-8cd0-a00036b19586",
   "metadata": {},
   "source": [
    "### E. Arithmetic Coding"
   ]
  },
  {
   "cell_type": "code",
   "execution_count": 5,
   "id": "141b585e",
   "metadata": {},
   "outputs": [
    {
     "name": "stdout",
     "output_type": "stream",
     "text": [
      "Compression Ratio (Arithmetic Coding): 64131.072\n",
      "RMSE (Arithmetic Coding): 74.79429391753378\n"
     ]
    }
   ],
   "source": [
    "from collections import Counter\n",
    "from itertools import accumulate\n",
    "\n",
    "# Step 1: Calculate frequency/probability of each pixel value\n",
    "def calculate_probabilities(image):\n",
    "    pixels = image.flatten()\n",
    "    total_pixels = len(pixels)\n",
    "    frequency = Counter(pixels)\n",
    "    probabilities = {k: v / total_pixels for k, v in frequency.items()}\n",
    "    return probabilities\n",
    "\n",
    "# Step 2: Generate cumulative probability intervals for each symbol\n",
    "def generate_intervals(probabilities):\n",
    "    keys = list(probabilities.keys())\n",
    "    values = list(probabilities.values())\n",
    "    cumulative_probs = list(accumulate(values))\n",
    "    intervals = {keys[i]: (cumulative_probs[i] - values[i], cumulative_probs[i]) for i in range(len(keys))}\n",
    "    return intervals\n",
    "\n",
    "# Step 3: Encode using the probability intervals\n",
    "def arithmetic_encode(image, intervals):\n",
    "    pixels = image.flatten()\n",
    "    low, high = 0.0, 1.0\n",
    "\n",
    "    for pixel in pixels:\n",
    "        range_width = high - low\n",
    "        low = low + range_width * intervals[pixel][0]\n",
    "        high = low + range_width * (intervals[pixel][1] - intervals[pixel][0])\n",
    "\n",
    "    return (low + high) / 2  # Final encoded value\n",
    "\n",
    "# Step 4: Decode the encoded message\n",
    "def arithmetic_decode(encoded_value, intervals, num_pixels):\n",
    "    decoded_pixels = []\n",
    "    for _ in range(num_pixels):\n",
    "        for pixel, (low, high) in intervals.items():\n",
    "            if low <= encoded_value < high:\n",
    "                decoded_pixels.append(pixel)\n",
    "                encoded_value = (encoded_value - low) / (high - low)\n",
    "                break\n",
    "    return np.array(decoded_pixels)\n",
    "\n",
    "# Encode\n",
    "probabilities = calculate_probabilities(image)\n",
    "intervals = generate_intervals(probabilities)\n",
    "encoded_value = arithmetic_encode(image, intervals)\n",
    "\n",
    "# Decode\n",
    "decoded_image = arithmetic_decode(encoded_value, intervals, image.size).reshape(image.shape)\n",
    "\n",
    "# Compression Ratio and RMSE\n",
    "compression_ratio = image.size / len(probabilities)  # Assuming a single value represents the entire image\n",
    "rmse = np.sqrt(mean_squared_error(image, decoded_image))\n",
    "\n",
    "print(\"Compression Ratio (Arithmetic Coding):\", compression_ratio)\n",
    "print(\"RMSE (Arithmetic Coding):\", rmse)\n"
   ]
  },
  {
   "cell_type": "markdown",
   "id": "8c2370a8",
   "metadata": {},
   "source": [
    "##### Github Link:\n",
    "\n",
    "https://github.com/Avani-Brahmbhatt/CC-402-Text-Image-and-Video-Analytics-Assignment.git"
   ]
  },
  {
   "cell_type": "code",
   "execution_count": null,
   "id": "151c2788",
   "metadata": {},
   "outputs": [],
   "source": []
  }
 ],
 "metadata": {
  "kernelspec": {
   "display_name": "Python 3 (ipykernel)",
   "language": "python",
   "name": "python3"
  },
  "language_info": {
   "codemirror_mode": {
    "name": "ipython",
    "version": 3
   },
   "file_extension": ".py",
   "mimetype": "text/x-python",
   "name": "python",
   "nbconvert_exporter": "python",
   "pygments_lexer": "ipython3",
   "version": "3.9.12"
  }
 },
 "nbformat": 4,
 "nbformat_minor": 5
}
